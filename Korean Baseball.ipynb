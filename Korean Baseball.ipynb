{
 "cells": [
  {
   "cell_type": "code",
   "execution_count": 1,
   "metadata": {},
   "outputs": [],
   "source": [
    "import pandas as pd\n",
    "import numpy as np"
   ]
  },
  {
   "cell_type": "markdown",
   "metadata": {},
   "source": [
    "The KBO originated in 1982. I'm going to use pandas read_html() and loop through the season results page for each season to collect the final standings. "
   ]
  },
  {
   "cell_type": "code",
   "execution_count": 2,
   "metadata": {},
   "outputs": [],
   "source": [
    "pages = [\"6a2bec36\", \"3ef9029d\", \"8aa559d8\", \"8f7d6569\", \"dffe1d5e\", \"867da834\", \"1c9e7c8b\", \"562cc471\", \"7f634357\",\n",
    "         \"242952f6\", \"15c2c198\", \"07c6ddeb\", \"9798c3f8\", \"b3541612\", \"5a6bdf0f\", \"08d6783b\", \"8b1281f1\", \"405d7eba\",\n",
    "         \"ec68dffc\", \"830335e3\", \"a8cfce5f\", \"b41c916c\", \"cdbb609e\", \"e8747b8f\", \"3706c744\", \"94cd40f3\", \"b9e07969\",\n",
    "         \"4e9a4805\", \"fb11c3eb\", \"8fb1fec9\", \"247bbfce\", \"dbc251cc\", \"d88d7497\", \"ac6e830f\", \"7eb48ea3\", \"d1e5806d\",\n",
    "         \"e942b2f6\", \"72b8a933\"]\n",
    "\n",
    "column_names = [\"Tm\", \"W\", \"L\", \"Ties\", \"W-L%\", \"GB\", \"Year\"]\n",
    "\n",
    "pd.DataFrame(columns = column_names)\n",
    "\n",
    "year = 2019\n",
    "\n",
    "seasons = pd.DataFrame(columns = column_names)\n",
    "\n",
    "for page in pages:\n",
    "\n",
    "    tables = pd.read_html(\"https://www.baseball-reference.com/register/league.cgi?id=\" + page)\n",
    "\n",
    "    standings = tables[0]\n",
    "    standings['Year'] = year\n",
    "    \n",
    "    year -= 1\n",
    "    \n",
    "    seasons = seasons.append(standings, ignore_index = True)"
   ]
  },
  {
   "cell_type": "markdown",
   "metadata": {},
   "source": [
    "Since this dataset is small I'm going to write it to a CSV and visually inspect everything in Excel. "
   ]
  },
  {
   "cell_type": "code",
   "execution_count": 3,
   "metadata": {},
   "outputs": [],
   "source": [
    "seasons.to_csv('KBO_raw.csv')"
   ]
  },
  {
   "cell_type": "markdown",
   "metadata": {},
   "source": [
    "The first thing I noticed is that there is an unexpected column \"Dream Division.\" This is showing up because in 1999 and 2000 the league tried a two division format and had a \"Magic Division\" and \"Dream Division.\" The table on baseball-reference.com is formated differently. I'll fix that, convert the numbers of wins from a string to an intenger, and then calculate cumulative wins for each team. "
   ]
  },
  {
   "cell_type": "code",
   "execution_count": 4,
   "metadata": {},
   "outputs": [],
   "source": [
    "seasons.loc[seasons.Year.isin([1999, 2000]), 'Tm'] = seasons.loc[seasons.Year.isin([1999, 2000]), 'Dream Division']\n",
    "seasons = seasons[seasons.Tm != 'Magic Division']\n",
    "seasons.drop(columns = ['Dream Division'], inplace = True)\n",
    "seasons.W = seasons.W.astype('int')\n",
    "seasons['Total Wins'] = seasons.sort_values('Year').groupby('Tm').cumsum()"
   ]
  },
  {
   "cell_type": "markdown",
   "metadata": {},
   "source": [
    "The next issue to address is that the franchises switch names all the time which is making our cumulative win totals incorrect.  The Doosan Bears were previously OB Bears, so I'll add the total number of wins the OB Bears had to every value for the Doosan Bears."
   ]
  },
  {
   "cell_type": "code",
   "execution_count": 5,
   "metadata": {},
   "outputs": [],
   "source": [
    "seasons.loc[seasons.Tm == 'Doosan Bears', 'Total Wins'] = seasons.loc[seasons.Tm == 'Doosan Bears', 'Total Wins']\\\n",
    "                                                         + seasons.loc[seasons.Tm == 'OB Bears', 'Total Wins']\\\n",
    "                                                           .max()"
   ]
  },
  {
   "cell_type": "markdown",
   "metadata": {},
   "source": [
    "The Hanwha Eagles used to be the Binggre Eagles and based on everything I find online the spelling should be Binggrae. "
   ]
  },
  {
   "cell_type": "code",
   "execution_count": 6,
   "metadata": {},
   "outputs": [],
   "source": [
    "seasons.loc[seasons.Tm == 'Hanwha Eagles', 'Total Wins'] = seasons.loc[seasons.Tm == 'Hanwha Eagles', 'Total Wins']\\\n",
    "                                                          + seasons.loc[seasons.Tm == 'Binggre Eagles', 'Total Wins']\\\n",
    "                                                            .max()\n",
    "\n",
    "seasons.loc[seasons.Tm == 'Binggre Eagles', 'Tm'] = \"Binggrae Eagles\""
   ]
  },
  {
   "cell_type": "markdown",
   "metadata": {},
   "source": [
    "The Kia Tigers were formerly the Haitai Tigers. At this point I realized it would have been more efficient to split the sponsor and team name into two separate columns. Calculating the cumulative win total on that team name column would have yielded better results. "
   ]
  },
  {
   "cell_type": "code",
   "execution_count": 7,
   "metadata": {},
   "outputs": [],
   "source": [
    "seasons.loc[seasons.Tm == 'Kia Tigers', 'Total Wins'] = seasons.loc[seasons.Tm == 'Kia Tigers', 'Total Wins']\\\n",
    "                                                        + seasons.loc[seasons.Tm == 'Haitai Tigers', 'Total Wins']\\\n",
    "                                                          .max()"
   ]
  },
  {
   "cell_type": "markdown",
   "metadata": {},
   "source": [
    "The Kiwoom Heroes were previously the Nexen Heroes and prior to that they were the Woori Heroes. "
   ]
  },
  {
   "cell_type": "code",
   "execution_count": 8,
   "metadata": {},
   "outputs": [],
   "source": [
    "seasons.loc[seasons.Tm == 'Nexen Heroes', 'Total Wins'] = seasons.loc[seasons.Tm == 'Nexen Heroes', 'Total Wins']\\\n",
    "                                                          + seasons.loc[seasons.Tm == 'Woori Heroes', 'Total Wins']\\\n",
    "                                                            .max()\n",
    "\n",
    "seasons.loc[seasons.Tm == 'Kiwoom Heroes', 'Total Wins'] = seasons.loc[seasons.Tm == 'Kiwoom Heroes', 'Total Wins']\\\n",
    "                                                           + seasons.loc[seasons.Tm == 'Nexen Heroes', 'Total Wins']\\\n",
    "                                                             .max()"
   ]
  },
  {
   "cell_type": "markdown",
   "metadata": {},
   "source": [
    "The Sammi Superstars became the Chungbo Pintos who became the Pacific Dolphins who became the Hyundai Unicorns. "
   ]
  },
  {
   "cell_type": "code",
   "execution_count": 9,
   "metadata": {},
   "outputs": [],
   "source": [
    "seasons.loc[seasons.Tm == 'Chungbo Pintos', 'Total Wins'] = seasons.loc[seasons.Tm == 'Chungbo Pintos', 'Total Wins']\\\n",
    "                                                            + seasons.loc[seasons.Tm == 'Sammi Superstars', 'Total Wins']\\\n",
    "                                                              .max()\n",
    "\n",
    "seasons.loc[seasons.Tm == 'Pacific Dolphins', 'Total Wins'] = seasons.loc[seasons.Tm == 'Pacific Dolphins', 'Total Wins']\\\n",
    "                                                              + seasons.loc[seasons.Tm == 'Chungbo Pintos', 'Total Wins']\\\n",
    "                                                                .max()\n",
    "\n",
    "seasons.loc[seasons.Tm == 'Hyundai Unicorns', 'Total Wins'] = seasons.loc[seasons.Tm == 'Hyundai Unicorns', 'Total Wins']\\\n",
    "                                                              + seasons.loc[seasons.Tm == 'Pacific Dolphins', 'Total Wins']\\\n",
    "                                                                .max()"
   ]
  },
  {
   "cell_type": "markdown",
   "metadata": {},
   "source": [
    "The LG Twins were formerly the MBC Blue dragons. "
   ]
  },
  {
   "cell_type": "code",
   "execution_count": 10,
   "metadata": {},
   "outputs": [],
   "source": [
    "seasons.loc[seasons.Tm == 'LG Twins', 'Total Wins'] = seasons.loc[seasons.Tm == 'LG Twins', 'Total Wins']\\\n",
    "                                                      + seasons.loc[seasons.Tm == 'MBC Blue Dragons', 'Total Wins']\\\n",
    "                                                        .max()"
   ]
  },
  {
   "cell_type": "markdown",
   "metadata": {},
   "source": [
    "I'll write this to a csv and use Power BI for the remaining portion of the project. "
   ]
  },
  {
   "cell_type": "code",
   "execution_count": 11,
   "metadata": {},
   "outputs": [],
   "source": [
    "seasons.to_csv('KBO_cleaned.csv')"
   ]
  }
 ],
 "metadata": {
  "kernelspec": {
   "display_name": "Python 3",
   "language": "python",
   "name": "python3"
  },
  "language_info": {
   "codemirror_mode": {
    "name": "ipython",
    "version": 3
   },
   "file_extension": ".py",
   "mimetype": "text/x-python",
   "name": "python",
   "nbconvert_exporter": "python",
   "pygments_lexer": "ipython3",
   "version": "3.7.4"
  }
 },
 "nbformat": 4,
 "nbformat_minor": 2
}
